{
 "cells": [
  {
   "cell_type": "markdown",
   "id": "2a631a81",
   "metadata": {},
   "source": [
    "# Workshop 3. Doing research with hydrological data"
   ]
  },
  {
   "cell_type": "markdown",
   "id": "2282096d",
   "metadata": {},
   "source": [
    "Students will be given 3 potential topics\n",
    "- Soil Moisture \n",
    "- Rainfall data (gauge vs grid) \n",
    "- Floods/Droughts (NRFA data and rainfall) \n",
    "\n",
    "They will be given some code but will need to use materials from the other sessions and find support from the helpers. "
   ]
  },
  {
   "cell_type": "code",
   "execution_count": 1,
   "id": "a73c1826",
   "metadata": {},
   "outputs": [
    {
     "ename": "ModuleNotFoundError",
     "evalue": "No module named 'numpy'",
     "output_type": "error",
     "traceback": [
      "\u001b[0;31m---------------------------------------------------------------------------\u001b[0m",
      "\u001b[0;31mModuleNotFoundError\u001b[0m                       Traceback (most recent call last)",
      "Cell \u001b[0;32mIn[1], line 1\u001b[0m\n\u001b[0;32m----> 1\u001b[0m \u001b[38;5;28;01mimport\u001b[39;00m\u001b[38;5;250m \u001b[39m\u001b[38;5;21;01mnumpy\u001b[39;00m\n",
      "\u001b[0;31mModuleNotFoundError\u001b[0m: No module named 'numpy'"
     ]
    }
   ],
   "source": [
    "import numpy"
   ]
  },
  {
   "cell_type": "code",
   "execution_count": null,
   "id": "16b48fd3",
   "metadata": {},
   "outputs": [],
   "source": []
  }
 ],
 "metadata": {
  "kernelspec": {
   "display_name": ".venv",
   "language": "python",
   "name": "python3"
  },
  "language_info": {
   "codemirror_mode": {
    "name": "ipython",
    "version": 3
   },
   "file_extension": ".py",
   "mimetype": "text/x-python",
   "name": "python",
   "nbconvert_exporter": "python",
   "pygments_lexer": "ipython3",
   "version": "3.9.21"
  }
 },
 "nbformat": 4,
 "nbformat_minor": 5
}
