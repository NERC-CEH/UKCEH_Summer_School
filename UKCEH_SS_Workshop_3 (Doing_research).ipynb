{
 "cells": [
  {
   "cell_type": "markdown",
   "id": "2a631a81",
   "metadata": {},
   "source": [
    "# Workshop 3. Doing research with hydrological data"
   ]
  },
  {
   "cell_type": "markdown",
   "id": "2282096d",
   "metadata": {},
   "source": [
    "Students will be given 3 potential topics\n",
    "- Soil Moisture \n",
    "- Rainfall data (gauge vs grid) \n",
    "- Floods/Droughts (NRFA data and rainfall) \n",
    "\n",
    "They will be given some code but will need to use materials from the other sessions and find support from the helpers. "
   ]
  },
  {
   "cell_type": "code",
   "execution_count": null,
   "id": "a73c1826",
   "metadata": {},
   "outputs": [],
   "source": []
  },
  {
   "cell_type": "code",
   "execution_count": null,
   "id": "16b48fd3",
   "metadata": {},
   "outputs": [],
   "source": []
  }
 ],
 "metadata": {
  "kernelspec": {
   "display_name": "ukceh_ss_2025",
   "language": "python",
   "name": "python3"
  },
  "language_info": {
   "codemirror_mode": {
    "name": "ipython",
    "version": 3
   },
   "file_extension": ".py",
   "mimetype": "text/x-python",
   "name": "python",
   "nbconvert_exporter": "python",
   "pygments_lexer": "ipython3",
   "version": "3.13.3"
  }
 },
 "nbformat": 4,
 "nbformat_minor": 5
}
