{
 "cells": [
  {
   "cell_type": "markdown",
   "id": "2a631a81",
   "metadata": {},
   "source": [
    "# Workshop 3. Doing research with hydrological data"
   ]
  },
  {
   "cell_type": "markdown",
   "id": "2282096d",
   "metadata": {},
   "source": [
    "Students will be given 3 potential topics\n",
    "- Soil Moisture \n",
    "- Rainfall data (gauge vs grid) \n",
    "- Floods/Droughts (NRFA data and rainfall) \n",
    "\n",
    "They will be given some code but will need to use materials from the other sessions and find support from the helpers. "
   ]
  },
  {
   "cell_type": "code",
   "execution_count": 1,
   "id": "16b48fd3",
   "metadata": {},
   "outputs": [],
   "source": [
    "import get_cosmos_data"
   ]
  },
  {
   "cell_type": "code",
   "execution_count": 2,
   "id": "c81e63dc",
   "metadata": {},
   "outputs": [
    {
     "name": "stdout",
     "output_type": "stream",
     "text": [
      "https://cosmos-api.ceh.ac.uk/collections/1D/locations\n"
     ]
    },
    {
     "data": {
      "text/html": [
       "<div>\n",
       "<style scoped>\n",
       "    .dataframe tbody tr th:only-of-type {\n",
       "        vertical-align: middle;\n",
       "    }\n",
       "\n",
       "    .dataframe tbody tr th {\n",
       "        vertical-align: top;\n",
       "    }\n",
       "\n",
       "    .dataframe thead th {\n",
       "        text-align: right;\n",
       "    }\n",
       "</style>\n",
       "<table border=\"1\" class=\"dataframe\">\n",
       "  <thead>\n",
       "    <tr style=\"text-align: right;\">\n",
       "      <th></th>\n",
       "    </tr>\n",
       "  </thead>\n",
       "  <tbody>\n",
       "  </tbody>\n",
       "</table>\n",
       "</div>"
      ],
      "text/plain": [
       "Empty DataFrame\n",
       "Columns: []\n",
       "Index: []"
      ]
     },
     "execution_count": 2,
     "metadata": {},
     "output_type": "execute_result"
    }
   ],
   "source": [
    "get_cosmos_data.get_single_station_metadata(station_name='ALIC1')"
   ]
  },
  {
   "cell_type": "code",
   "execution_count": null,
   "id": "a0538662",
   "metadata": {},
   "outputs": [],
   "source": []
  }
 ],
 "metadata": {
  "kernelspec": {
   "display_name": "ukceh_ss_2025",
   "language": "python",
   "name": "python3"
  },
  "language_info": {
   "codemirror_mode": {
    "name": "ipython",
    "version": 3
   },
   "file_extension": ".py",
   "mimetype": "text/x-python",
   "name": "python",
   "nbconvert_exporter": "python",
   "pygments_lexer": "ipython3",
   "version": "3.13.3"
  }
 },
 "nbformat": 4,
 "nbformat_minor": 5
}
