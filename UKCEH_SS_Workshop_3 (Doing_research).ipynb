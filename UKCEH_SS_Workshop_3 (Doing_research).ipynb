{
 "cells": [
  {
   "cell_type": "markdown",
   "id": "2a631a81",
   "metadata": {},
   "source": [
    "# Workshop 3. Doing research with hydrological data"
   ]
  },
  {
   "cell_type": "markdown",
   "id": "2282096d",
   "metadata": {},
   "source": [
    "## Index\n",
    "- [Topic 1. Soil moisture](#topic-1-soil-moisture)\n",
    "- [Topic 2. Uncertainty in the rainfall record](#topic-2-rainfall-uncertainty)\n",
    "- [Topic 3. Determining flood & droughts](#topic-3-determining-floods-and-droughts)\n",
    "\n",
    "Students will be given 3 potential topics\n",
    "- Soil Moisture \n",
    "- Rainfall data (gauge vs grid) \n",
    "- Floods/Droughts (NRFA data and rainfall) \n",
    "\n",
    "They will be given some code but will need to use materials from the other sessions and find support from the helpers. "
   ]
  },
  {
   "cell_type": "code",
   "execution_count": 1,
   "id": "22fd3796",
   "metadata": {},
   "outputs": [],
   "source": [
    "# Load required libraries"
   ]
  },
  {
   "cell_type": "code",
   "execution_count": null,
   "id": "3451a244",
   "metadata": {},
   "outputs": [],
   "source": []
  },
  {
   "cell_type": "markdown",
   "id": "39275cef",
   "metadata": {},
   "source": [
    "## Topic 1. Soil moisture\n",
    "[Back to Index](#index)\n",
    "\n",
    "#### Contents\n",
    "- Calculate soil moisture index between soils\n",
    "\n",
    "**Data sources:**\n",
    "- soil moisture and related soil variables - COSMOS API"
   ]
  },
  {
   "cell_type": "code",
   "execution_count": null,
   "id": "f4342c59",
   "metadata": {},
   "outputs": [],
   "source": [
    "import get_cosmos_data"
   ]
  },
  {
   "cell_type": "code",
   "execution_count": null,
   "id": "c81e63dc",
   "metadata": {},
   "outputs": [
    {
     "name": "stdout",
     "output_type": "stream",
     "text": [
      "https://cosmos-api.ceh.ac.uk/collections/1D/locations\n"
     ]
    },
    {
     "data": {
      "text/html": [
       "<div>\n",
       "<style scoped>\n",
       "    .dataframe tbody tr th:only-of-type {\n",
       "        vertical-align: middle;\n",
       "    }\n",
       "\n",
       "    .dataframe tbody tr th {\n",
       "        vertical-align: top;\n",
       "    }\n",
       "\n",
       "    .dataframe thead th {\n",
       "        text-align: right;\n",
       "    }\n",
       "</style>\n",
       "<table border=\"1\" class=\"dataframe\">\n",
       "  <thead>\n",
       "    <tr style=\"text-align: right;\">\n",
       "      <th></th>\n",
       "    </tr>\n",
       "  </thead>\n",
       "  <tbody>\n",
       "  </tbody>\n",
       "</table>\n",
       "</div>"
      ],
      "text/plain": [
       "Empty DataFrame\n",
       "Columns: []\n",
       "Index: []"
      ]
     },
     "execution_count": 2,
     "metadata": {},
     "output_type": "execute_result"
    }
   ],
   "source": [
    "get_cosmos_data.get_single_station_metadata(station_name='ALIC1')"
   ]
  },
  {
   "cell_type": "markdown",
   "id": "754cfbc6",
   "metadata": {},
   "source": [
    "## Topic 2. Uncertainty in the rainfall record\n",
    "[Back to Index](#index)\n",
    "\n",
    "#### Contents\n",
    "- Load in rain gauge and grid data\n",
    "- Remove rain gauge data from dodgy gauges\n",
    "- Compare estimations of events, and the differences\n",
    "\n",
    "**Data sources:**\n",
    "- rain over Severn - object-store"
   ]
  },
  {
   "cell_type": "code",
   "execution_count": null,
   "id": "95a0bab3",
   "metadata": {},
   "outputs": [],
   "source": []
  },
  {
   "cell_type": "markdown",
   "id": "ebd05e07",
   "metadata": {},
   "source": [
    "### 2.X removing incomplete gauges"
   ]
  },
  {
   "cell_type": "code",
   "execution_count": null,
   "id": "84816587",
   "metadata": {},
   "outputs": [],
   "source": []
  },
  {
   "cell_type": "markdown",
   "id": "38f44810",
   "metadata": {},
   "source": [
    "# Topic 3. Determining floods and droughts\n",
    "[Back to Index](#index)  \n",
    "\n",
    "#### Contents\n",
    "- Load in rain gauge\n",
    "- Download river flow data and catchment boundaries\n",
    "\n",
    "**Data sources:** \n",
    "- gridded rain over Severn - object-store\n",
    "- Severn sub-catchment boundaries and river flow - NRFA (manual download)\n",
    "- *maybe* Rivers - OpenRivers"
   ]
  },
  {
   "cell_type": "code",
   "execution_count": null,
   "id": "a0538662",
   "metadata": {},
   "outputs": [],
   "source": []
  }
 ],
 "metadata": {
  "kernelspec": {
   "display_name": "ukceh_ss_2025",
   "language": "python",
   "name": "python3"
  },
  "language_info": {
   "codemirror_mode": {
    "name": "ipython",
    "version": 3
   },
   "file_extension": ".py",
   "mimetype": "text/x-python",
   "name": "python",
   "nbconvert_exporter": "python",
   "pygments_lexer": "ipython3",
   "version": "3.13.3"
  }
 },
 "nbformat": 4,
 "nbformat_minor": 5
}
