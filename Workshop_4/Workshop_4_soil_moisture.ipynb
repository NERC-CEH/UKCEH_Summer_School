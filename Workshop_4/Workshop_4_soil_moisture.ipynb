{
 "cells": [
  {
   "cell_type": "markdown",
   "metadata": {
    "id": "NNinuYEG9e97"
   },
   "source": [
    "*Workshop 4. Doing research with hydrological data*\n",
    "\n",
    "\n",
    "# Case study 2: Monitoring soil moisture\n",
    "\n",
    "## Objectives:\n",
    "-\n",
    "-\n",
    "\n",
    "## Contents\n",
    "- Calculate soil moisture index between soils\n",
    "\n",
    "**Data sources:**\n",
    "- soil moisture and related soil variables - COSMOS API\n",
    "\n"
   ]
  },
  {
   "cell_type": "code",
   "execution_count": null,
   "metadata": {
    "id": "U4BjOKQu7HSL"
   },
   "outputs": [],
   "source": [
    "# Load required libraries\n",
    "import datetime\n",
    "\n",
    "import get_cosmos_data # script introduced to simplify parts of workshop 2"
   ]
  },
  {
   "cell_type": "markdown",
   "metadata": {
    "id": "KDmrq1kVACOa"
   },
   "source": [
    "# 1. load in data from COSMOS API\n",
    "For simplicity, we have moved the functions required for extracting data from the COSMOS API to the file `get_cosmos_data.py`, which you can download [here](https://github.com/Thomasjkeel/UKCEH_Summer_School_2025/blob/main/get_cosmos_data.py) (click 'download raw file'). These functions were covered in **Section X.X** of Workshop 1."
   ]
  },
  {
   "cell_type": "code",
   "execution_count": null,
   "metadata": {
    "id": "gVJv01i69eOr"
   },
   "outputs": [],
   "source": [
    "s_df = get_cosmos_data.get_single_station_data(\n",
    "    station_name='BUNNY',\n",
    "    start_date=datetime.datetime(2016, 1, 1),\n",
    "    end_date=datetime.datetime(2022, 12, 31),\n",
    "    variable_list=['tdt1_tsoil', 'tdt1_vwc', 'ta']\n",
    "    )"
   ]
  },
  {
   "cell_type": "code",
   "execution_count": null,
   "metadata": {
    "id": "HTxDNmJ9AHHJ"
   },
   "outputs": [],
   "source": [
    "s_df['tdt1_tsoil'].plot()\n",
    "s_df['tdt1_vwc'].plot()"
   ]
  },
  {
   "cell_type": "markdown",
   "metadata": {
    "id": "NKs280tTAMFh"
   },
   "source": [
    "#### 🤨 Tasks\n",
    "\n",
    "???\n",
    "Replace the ??? below with your answer"
   ]
  },
  {
   "cell_type": "code",
   "execution_count": null,
   "metadata": {
    "id": "0Ssxdv12AHBo"
   },
   "outputs": [],
   "source": []
  },
  {
   "cell_type": "markdown",
   "metadata": {},
   "source": [
    "# 2. Format data"
   ]
  },
  {
   "cell_type": "code",
   "execution_count": null,
   "metadata": {},
   "outputs": [],
   "source": []
  },
  {
   "cell_type": "code",
   "execution_count": null,
   "metadata": {},
   "outputs": [],
   "source": []
  },
  {
   "cell_type": "markdown",
   "metadata": {
    "id": "NKs280tTAMFh"
   },
   "source": [
    "#### 🤨 Tasks\n",
    "\n",
    "???\n",
    "Replace the ??? below with your answer"
   ]
  },
  {
   "cell_type": "code",
   "execution_count": null,
   "metadata": {
    "id": "0Ssxdv12AHBo"
   },
   "outputs": [],
   "source": []
  },
  {
   "cell_type": "markdown",
   "metadata": {},
   "source": [
    "# 3. Calculate soil moisture index "
   ]
  },
  {
   "cell_type": "code",
   "execution_count": null,
   "metadata": {},
   "outputs": [],
   "source": []
  },
  {
   "cell_type": "code",
   "execution_count": null,
   "metadata": {},
   "outputs": [],
   "source": []
  },
  {
   "cell_type": "markdown",
   "metadata": {
    "id": "NKs280tTAMFh"
   },
   "source": [
    "#### 🤨 Tasks\n",
    "\n",
    "???\n",
    "Replace the ??? below with your answer"
   ]
  },
  {
   "cell_type": "code",
   "execution_count": null,
   "metadata": {
    "id": "0Ssxdv12AHBo"
   },
   "outputs": [],
   "source": []
  },
  {
   "cell_type": "markdown",
   "metadata": {
    "id": "7gOoULo1Y1mQ"
   },
   "source": [
    "## ❗❗ FURTHER TASKS ❗❗  \n",
    "Feel free to stop at this point, but below are some additional and more advanced topics and tasks requiring more of your own input."
   ]
  },
  {
   "cell_type": "code",
   "execution_count": null,
   "metadata": {
    "id": "l5Ms0--UAG5h"
   },
   "outputs": [],
   "source": []
  },
  {
   "cell_type": "code",
   "execution_count": null,
   "metadata": {
    "id": "zmuQ9y7d9dPn"
   },
   "outputs": [],
   "source": []
  },
  {
   "cell_type": "markdown",
   "metadata": {
    "id": "ioEY_0gzZPZE"
   },
   "source": [
    "# Additional Reading\n",
    "-"
   ]
  },
  {
   "cell_type": "code",
   "execution_count": null,
   "metadata": {
    "id": "wAn_NR01ZQG8"
   },
   "outputs": [],
   "source": []
  }
 ],
 "metadata": {
  "colab": {
   "authorship_tag": "ABX9TyNd5cTYbnPgU0XUiLTHK9UD",
   "provenance": []
  },
  "kernelspec": {
   "display_name": "Python 3 (ipykernel)",
   "language": "python",
   "name": "python3"
  },
  "language_info": {
   "codemirror_mode": {
    "name": "ipython",
    "version": 3
   },
   "file_extension": ".py",
   "mimetype": "text/x-python",
   "name": "python",
   "nbconvert_exporter": "python",
   "pygments_lexer": "ipython3",
   "version": "3.13.5"
  }
 },
 "nbformat": 4,
 "nbformat_minor": 4
}
