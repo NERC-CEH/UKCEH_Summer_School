{
 "cells": [
  {
   "cell_type": "markdown",
   "metadata": {
    "id": "NNinuYEG9e97"
   },
   "source": [
    "*Workshop 4. Doing research with hydrological data*\n",
    "\n",
    "\n",
    "# Case study 2: Monitoring soil moisture\n",
    "\n",
    "## Objectives:\n",
    "-\n",
    "-\n",
    "\n",
    "## Contents\n",
    "- Calculate soil moisture index between soils\n",
    "\n",
    "**Data sources:**\n",
    "- soil moisture and related soil variables - COSMOS API\n",
    "\n"
   ]
  },
  {
   "cell_type": "code",
   "execution_count": 1,
   "metadata": {
    "id": "U4BjOKQu7HSL"
   },
   "outputs": [],
   "source": [
    "# Load required libraries\n",
    "import datetime\n",
    "\n",
    "import get_cosmos_data # script introduced to simplify parts of workshop 2"
   ]
  },
  {
   "cell_type": "markdown",
   "metadata": {
    "id": "KDmrq1kVACOa"
   },
   "source": [
    "# 1. load in data from COSMOS API\n",
    "For simplicity, we have moved the functions required for extracting data from the COSMOS API to the file `get_cosmos_data.py`, which you can download [here](https://github.com/Thomasjkeel/UKCEH_Summer_School_2025/blob/main/get_cosmos_data.py) (click 'download raw file'). These functions were covered in **Section X.X** of Workshop 1."
   ]
  },
  {
   "cell_type": "code",
   "execution_count": 2,
   "metadata": {
    "id": "gVJv01i69eOr"
   },
   "outputs": [
    {
     "name": "stdout",
     "output_type": "stream",
     "text": [
      "https://cosmos-api.ceh.ac.uk/collections/1D/locations\n",
      "https://cosmos-api.ceh.ac.uk/collections/1D/locations/BUNNY?datetime=2016-01-01T00:00:00Z/2022-12-31T00:00:00Z&parameter-name=tdt1_tsoil,tdt1_vwc,ta\n"
     ]
    }
   ],
   "source": [
    "s_df = get_cosmos_data.get_single_station_data(\n",
    "    station_name='BUNNY',\n",
    "    start_date=datetime.datetime(2016, 1, 1),\n",
    "    end_date=datetime.datetime(2022, 12, 31),\n",
    "    variable_list=['tdt1_tsoil', 'tdt1_vwc', 'ta']\n",
    "    )"
   ]
  },
  {
   "cell_type": "code",
   "execution_count": 4,
   "metadata": {},
   "outputs": [
    {
     "data": {
      "text/html": [
       "<div>\n",
       "<style scoped>\n",
       "    .dataframe tbody tr th:only-of-type {\n",
       "        vertical-align: middle;\n",
       "    }\n",
       "\n",
       "    .dataframe tbody tr th {\n",
       "        vertical-align: top;\n",
       "    }\n",
       "\n",
       "    .dataframe thead th {\n",
       "        text-align: right;\n",
       "    }\n",
       "</style>\n",
       "<table border=\"1\" class=\"dataframe\">\n",
       "  <thead>\n",
       "    <tr style=\"text-align: right;\">\n",
       "      <th></th>\n",
       "      <th>datetime</th>\n",
       "      <th>site_id</th>\n",
       "      <th>ta</th>\n",
       "      <th>tdt1_tsoil</th>\n",
       "      <th>tdt1_vwc</th>\n",
       "    </tr>\n",
       "  </thead>\n",
       "  <tbody>\n",
       "    <tr>\n",
       "      <th>0</th>\n",
       "      <td>2016-01-01 00:00:00+00:00</td>\n",
       "      <td>BUNNY</td>\n",
       "      <td>4.4</td>\n",
       "      <td>5.8</td>\n",
       "      <td>20.6</td>\n",
       "    </tr>\n",
       "    <tr>\n",
       "      <th>1</th>\n",
       "      <td>2016-01-02 00:00:00+00:00</td>\n",
       "      <td>BUNNY</td>\n",
       "      <td>8.5</td>\n",
       "      <td>7.3</td>\n",
       "      <td>20.9</td>\n",
       "    </tr>\n",
       "    <tr>\n",
       "      <th>2</th>\n",
       "      <td>2016-01-03 00:00:00+00:00</td>\n",
       "      <td>BUNNY</td>\n",
       "      <td>7.1</td>\n",
       "      <td>7.5</td>\n",
       "      <td>22.2</td>\n",
       "    </tr>\n",
       "    <tr>\n",
       "      <th>3</th>\n",
       "      <td>2016-01-04 00:00:00+00:00</td>\n",
       "      <td>BUNNY</td>\n",
       "      <td>6.3</td>\n",
       "      <td>6.5</td>\n",
       "      <td>20.2</td>\n",
       "    </tr>\n",
       "    <tr>\n",
       "      <th>4</th>\n",
       "      <td>2016-01-05 00:00:00+00:00</td>\n",
       "      <td>BUNNY</td>\n",
       "      <td>7.3</td>\n",
       "      <td>7.1</td>\n",
       "      <td>19.7</td>\n",
       "    </tr>\n",
       "    <tr>\n",
       "      <th>...</th>\n",
       "      <td>...</td>\n",
       "      <td>...</td>\n",
       "      <td>...</td>\n",
       "      <td>...</td>\n",
       "      <td>...</td>\n",
       "    </tr>\n",
       "    <tr>\n",
       "      <th>2552</th>\n",
       "      <td>2022-12-27 00:00:00+00:00</td>\n",
       "      <td>BUNNY</td>\n",
       "      <td>6.2</td>\n",
       "      <td>4.8</td>\n",
       "      <td>25.2</td>\n",
       "    </tr>\n",
       "    <tr>\n",
       "      <th>2553</th>\n",
       "      <td>2022-12-28 00:00:00+00:00</td>\n",
       "      <td>BUNNY</td>\n",
       "      <td>9.3</td>\n",
       "      <td>6.6</td>\n",
       "      <td>26.7</td>\n",
       "    </tr>\n",
       "    <tr>\n",
       "      <th>2554</th>\n",
       "      <td>2022-12-29 00:00:00+00:00</td>\n",
       "      <td>BUNNY</td>\n",
       "      <td>7.2</td>\n",
       "      <td>6.3</td>\n",
       "      <td>26.1</td>\n",
       "    </tr>\n",
       "    <tr>\n",
       "      <th>2555</th>\n",
       "      <td>2022-12-30 00:00:00+00:00</td>\n",
       "      <td>BUNNY</td>\n",
       "      <td>8.9</td>\n",
       "      <td>6.2</td>\n",
       "      <td>25.5</td>\n",
       "    </tr>\n",
       "    <tr>\n",
       "      <th>2556</th>\n",
       "      <td>2022-12-31 00:00:00+00:00</td>\n",
       "      <td>BUNNY</td>\n",
       "      <td>10.6</td>\n",
       "      <td>7.4</td>\n",
       "      <td>26.2</td>\n",
       "    </tr>\n",
       "  </tbody>\n",
       "</table>\n",
       "<p>2557 rows × 5 columns</p>\n",
       "</div>"
      ],
      "text/plain": [
       "                      datetime site_id    ta  tdt1_tsoil  tdt1_vwc\n",
       "0    2016-01-01 00:00:00+00:00   BUNNY   4.4         5.8      20.6\n",
       "1    2016-01-02 00:00:00+00:00   BUNNY   8.5         7.3      20.9\n",
       "2    2016-01-03 00:00:00+00:00   BUNNY   7.1         7.5      22.2\n",
       "3    2016-01-04 00:00:00+00:00   BUNNY   6.3         6.5      20.2\n",
       "4    2016-01-05 00:00:00+00:00   BUNNY   7.3         7.1      19.7\n",
       "...                        ...     ...   ...         ...       ...\n",
       "2552 2022-12-27 00:00:00+00:00   BUNNY   6.2         4.8      25.2\n",
       "2553 2022-12-28 00:00:00+00:00   BUNNY   9.3         6.6      26.7\n",
       "2554 2022-12-29 00:00:00+00:00   BUNNY   7.2         6.3      26.1\n",
       "2555 2022-12-30 00:00:00+00:00   BUNNY   8.9         6.2      25.5\n",
       "2556 2022-12-31 00:00:00+00:00   BUNNY  10.6         7.4      26.2\n",
       "\n",
       "[2557 rows x 5 columns]"
      ]
     },
     "execution_count": 4,
     "metadata": {},
     "output_type": "execute_result"
    }
   ],
   "source": [
    "s_df"
   ]
  },
  {
   "cell_type": "code",
   "execution_count": null,
   "metadata": {},
   "outputs": [],
   "source": []
  },
  {
   "cell_type": "code",
   "execution_count": 3,
   "metadata": {
    "id": "HTxDNmJ9AHHJ"
   },
   "outputs": [
    {
     "data": {
      "text/plain": [
       "<Axes: >"
      ]
     },
     "execution_count": 3,
     "metadata": {},
     "output_type": "execute_result"
    },
    {
     "data": {
      "image/png": "[encoded data removed]",
      "text/plain": [
       "<Figure size 640x480 with 1 Axes>"
      ]
     },
     "metadata": {},
     "output_type": "display_data"
    }
   ],
   "source": [
    "s_df['tdt1_tsoil'].plot()\n",
    "s_df['tdt1_vwc'].plot()"
   ]
  },
  {
   "cell_type": "markdown",
   "metadata": {
    "id": "NKs280tTAMFh"
   },
   "source": [
    "#### 🤨 Tasks\n",
    "\n",
    "???\n",
    "Replace the ??? below with your answer"
   ]
  },
  {
   "cell_type": "code",
   "execution_count": null,
   "metadata": {
    "id": "0Ssxdv12AHBo"
   },
   "outputs": [],
   "source": []
  },
  {
   "cell_type": "markdown",
   "metadata": {},
   "source": [
    "# 2. Format data"
   ]
  },
  {
   "cell_type": "code",
   "execution_count": null,
   "metadata": {},
   "outputs": [],
   "source": []
  },
  {
   "cell_type": "code",
   "execution_count": null,
   "metadata": {},
   "outputs": [],
   "source": []
  },
  {
   "cell_type": "markdown",
   "metadata": {
    "id": "NKs280tTAMFh"
   },
   "source": [
    "#### 🤨 Tasks\n",
    "\n",
    "???\n",
    "Replace the ??? below with your answer"
   ]
  },
  {
   "cell_type": "code",
   "execution_count": null,
   "metadata": {
    "id": "0Ssxdv12AHBo"
   },
   "outputs": [],
   "source": []
  },
  {
   "cell_type": "markdown",
   "metadata": {},
   "source": [
    "# 3. Calculate soil moisture index "
   ]
  },
  {
   "cell_type": "code",
   "execution_count": null,
   "metadata": {},
   "outputs": [],
   "source": []
  },
  {
   "cell_type": "code",
   "execution_count": null,
   "metadata": {},
   "outputs": [],
   "source": []
  },
  {
   "cell_type": "markdown",
   "metadata": {
    "id": "NKs280tTAMFh"
   },
   "source": [
    "#### 🤨 Tasks\n",
    "\n",
    "???\n",
    "Replace the ??? below with your answer"
   ]
  },
  {
   "cell_type": "code",
   "execution_count": null,
   "metadata": {
    "id": "0Ssxdv12AHBo"
   },
   "outputs": [],
   "source": []
  },
  {
   "cell_type": "markdown",
   "metadata": {
    "id": "7gOoULo1Y1mQ"
   },
   "source": [
    "## ❗❗ FURTHER TASKS ❗❗  \n",
    "Feel free to stop at this point, but below are some additional and more advanced topics and tasks requiring more of your own input."
   ]
  },
  {
   "cell_type": "code",
   "execution_count": null,
   "metadata": {
    "id": "l5Ms0--UAG5h"
   },
   "outputs": [],
   "source": []
  },
  {
   "cell_type": "code",
   "execution_count": null,
   "metadata": {
    "id": "zmuQ9y7d9dPn"
   },
   "outputs": [],
   "source": []
  },
  {
   "cell_type": "markdown",
   "metadata": {
    "id": "ioEY_0gzZPZE"
   },
   "source": [
    "# Additional Reading\n",
    "-"
   ]
  },
  {
   "cell_type": "code",
   "execution_count": null,
   "metadata": {
    "id": "wAn_NR01ZQG8"
   },
   "outputs": [],
   "source": []
  }
 ],
 "metadata": {
  "colab": {
   "authorship_tag": "ABX9TyNd5cTYbnPgU0XUiLTHK9UD",
   "provenance": []
  },
  "kernelspec": {
   "display_name": "Python 3 (ipykernel)",
   "language": "python",
   "name": "python3"
  },
  "language_info": {
   "codemirror_mode": {
    "name": "ipython",
    "version": 3
   },
   "file_extension": ".py",
   "mimetype": "text/x-python",
   "name": "python",
   "nbconvert_exporter": "python",
   "pygments_lexer": "ipython3",
   "version": "3.13.5"
  }
 },
 "nbformat": 4,
 "nbformat_minor": 4
}
